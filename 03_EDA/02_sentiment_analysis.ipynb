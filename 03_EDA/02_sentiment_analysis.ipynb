{
 "cells": [
  {
   "cell_type": "code",
   "execution_count": 2,
   "metadata": {},
   "outputs": [],
   "source": [
    "import os\n",
    "from dotenv import load_dotenv\n",
    "\n",
    "# Load the environment variables\n",
    "load_dotenv()\n",
    "\n",
    "# Access the Instagram API key\n",
    "INSTAGRAM_API_KEY = os.getenv('INSTAGRAM_API_KEY')\n"
   ]
  },
  {
   "cell_type": "code",
   "execution_count": 3,
   "metadata": {},
   "outputs": [
    {
     "name": "stdout",
     "output_type": "stream",
     "text": [
      "{'username': 'wearesecondlifefashion', 'followers': 37140, 'media_count': 410}\n"
     ]
    }
   ],
   "source": [
    "import instaloader\n",
    "\n",
    "def get_instagram_data(username):\n",
    "    L = instaloader.Instaloader()\n",
    "    profile = instaloader.Profile.from_username(L.context, username)\n",
    "    \n",
    "    return {\n",
    "        'username': profile.username,\n",
    "        'followers': profile.followers,\n",
    "        'media_count': profile.mediacount\n",
    "    }\n",
    "\n",
    "data = get_instagram_data('wearesecondlifefashion')\n",
    "print(data)\n"
   ]
  },
  {
   "cell_type": "code",
   "execution_count": 4,
   "metadata": {},
   "outputs": [
    {
     "name": "stdout",
     "output_type": "stream",
     "text": [
      "/Users/andrii/Documents/londons_fashionable_finds/venv/bin/python\n"
     ]
    }
   ],
   "source": [
    "import sys\n",
    "print(sys.executable)\n"
   ]
  },
  {
   "attachments": {},
   "cell_type": "markdown",
   "metadata": {},
   "source": [
    "This script uses the search_profiles() function from the instagram-scraper library to search Instagram profiles and the fuzz module from the fuzzywuzzy library to calculate the similarity score between the shop names and Instagram profile names. The script then filters the results based on a similarity score threshold (70 in this example)."
   ]
  },
  {
   "cell_type": "code",
   "execution_count": 7,
   "metadata": {},
   "outputs": [
    {
     "ename": "ModuleNotFoundError",
     "evalue": "No module named 'instagram_scraper'",
     "output_type": "error",
     "traceback": [
      "\u001b[0;31m---------------------------------------------------------------------------\u001b[0m",
      "\u001b[0;31mModuleNotFoundError\u001b[0m                       Traceback (most recent call last)",
      "Cell \u001b[0;32mIn[7], line 4\u001b[0m\n\u001b[1;32m      2\u001b[0m \u001b[39mfrom\u001b[39;00m \u001b[39mtyping\u001b[39;00m \u001b[39mimport\u001b[39;00m List\n\u001b[1;32m      3\u001b[0m \u001b[39mfrom\u001b[39;00m \u001b[39mrapidfuzz\u001b[39;00m \u001b[39mimport\u001b[39;00m fuzz, process\n\u001b[0;32m----> 4\u001b[0m \u001b[39mfrom\u001b[39;00m \u001b[39minstagram_scraper\u001b[39;00m \u001b[39mimport\u001b[39;00m InstagramScraper\n\u001b[1;32m      6\u001b[0m \u001b[39mdef\u001b[39;00m \u001b[39mload_shop_names\u001b[39m(json_path: \u001b[39mstr\u001b[39m) \u001b[39m-\u001b[39m\u001b[39m>\u001b[39m List[\u001b[39mstr\u001b[39m]:\n\u001b[1;32m      7\u001b[0m     \u001b[39mwith\u001b[39;00m \u001b[39mopen\u001b[39m(json_path, \u001b[39m\"\u001b[39m\u001b[39mr\u001b[39m\u001b[39m\"\u001b[39m) \u001b[39mas\u001b[39;00m f:\n",
      "\u001b[0;31mModuleNotFoundError\u001b[0m: No module named 'instagram_scraper'"
     ]
    }
   ],
   "source": [
    "import json\n",
    "from typing import List\n",
    "from rapidfuzz import fuzz, process\n",
    "from instagram_scraper import InstagramScraper\n",
    "\n",
    "def load_shop_names(json_path: str) -> List[str]:\n",
    "    with open(json_path, \"r\") as f:\n",
    "        data = json.load(f)\n",
    "    return [shop[\"Shop_Name\"] for shop in data]\n",
    "\n",
    "class InstagramProfileSearcher:\n",
    "    def __init__(self):\n",
    "        self.scraper = InstagramScraper()\n",
    "\n",
    "    def search_profiles(self, query: str) -> List[str]:\n",
    "        profiles = self.scraper.search_profiles(query)\n",
    "        return [profile['username'] for profile in profiles]\n",
    "\n",
    "def find_best_match(query: str, candidates: List[str]) -> str:\n",
    "    best_match, score = process.extractOne(query, candidates, scorer=fuzz.token_set_ratio)\n",
    "    if score >= 90:\n",
    "        return best_match\n",
    "    else:\n",
    "        return \"\"\n",
    "\n",
    "json_path = \"../static/ranked_shops.json\"\n",
    "shop_names = load_shop_names(json_path)\n",
    "\n",
    "searcher = InstagramProfileSearcher()\n",
    "shop_usernames = {}\n",
    "for name in shop_names:\n",
    "    instagram_profiles = searcher.search_profiles(name)\n",
    "    best_match = find_best_match(name, instagram_profiles)\n",
    "    if best_match:\n",
    "        shop_usernames[name] = best_match\n",
    "\n",
    "print(shop_usernames)\n"
   ]
  }
 ],
 "metadata": {
  "kernelspec": {
   "display_name": "venv",
   "language": "python",
   "name": "python3"
  },
  "language_info": {
   "codemirror_mode": {
    "name": "ipython",
    "version": 3
   },
   "file_extension": ".py",
   "mimetype": "text/x-python",
   "name": "python",
   "nbconvert_exporter": "python",
   "pygments_lexer": "ipython3",
   "version": "3.10.9"
  },
  "orig_nbformat": 4
 },
 "nbformat": 4,
 "nbformat_minor": 2
}
