{
 "cells": [
  {
   "cell_type": "code",
   "execution_count": null,
   "metadata": {},
   "outputs": [],
   "source": [
    "# The cleaned data doesn't contain enough relevant factor to build a meaningful model\n",
    "# A potential model in mind to rank the shops most likely to have the best deal is a weighted scoring model, \n",
    "# where I assign weights to each factor based on their importance \n",
    "# and calculate a composite score for each shop"
   ]
  },
  {
   "cell_type": "markdown",
   "metadata": {},
   "source": [
    "1. [Statista](https://www.statista.com/statistics/319953/charity-shops-sales-revenue-in-the-united-kingdom-uk/) provides data (private paid) on the sales revenue of charity shops in the UK, which can be a useful starting point for understanding the sector\n",
    "\n",
    "2. Charity Financials \n",
    "\n",
    "3. https://www.theodi.org/ no data sets to download\n",
    "\n",
    "4. https://www.gov.uk/find-charity-information this looks promising\n"
   ]
  }
 ],
 "metadata": {
  "language_info": {
   "name": "python"
  },
  "orig_nbformat": 4
 },
 "nbformat": 4,
 "nbformat_minor": 2
}
